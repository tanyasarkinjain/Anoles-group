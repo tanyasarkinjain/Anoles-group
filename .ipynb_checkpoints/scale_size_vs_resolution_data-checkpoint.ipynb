{
 "cells": [
  {
   "cell_type": "code",
   "execution_count": 7,
   "metadata": {},
   "outputs": [
    {
     "ename": "ModuleNotFoundError",
     "evalue": "No module named 'numpy'",
     "output_type": "error",
     "traceback": [
      "\u001b[0;31m---------------------------------------------------------------------------\u001b[0m",
      "\u001b[0;31mModuleNotFoundError\u001b[0m                       Traceback (most recent call last)",
      "\u001b[0;32m<ipython-input-7-2f133de9818c>\u001b[0m in \u001b[0;36m<module>\u001b[0;34m\u001b[0m\n\u001b[1;32m      3\u001b[0m \u001b[0;31m###overall goal: display expected count for each image sorted by dorsal and ventral.\u001b[0m\u001b[0;34m\u001b[0m\u001b[0;34m\u001b[0m\u001b[0;34m\u001b[0m\u001b[0m\n\u001b[1;32m      4\u001b[0m \u001b[0;34m\u001b[0m\u001b[0m\n\u001b[0;32m----> 5\u001b[0;31m \u001b[0;32mimport\u001b[0m \u001b[0mnumpy\u001b[0m \u001b[0;32mas\u001b[0m \u001b[0mnp\u001b[0m\u001b[0;34m\u001b[0m\u001b[0;34m\u001b[0m\u001b[0m\n\u001b[0m\u001b[1;32m      6\u001b[0m \u001b[0;32mimport\u001b[0m \u001b[0mmatplotlib\u001b[0m \u001b[0;32mas\u001b[0m \u001b[0mmpl\u001b[0m\u001b[0;34m\u001b[0m\u001b[0;34m\u001b[0m\u001b[0m\n\u001b[1;32m      7\u001b[0m \u001b[0;32mfrom\u001b[0m \u001b[0mmatplotlib\u001b[0m \u001b[0;32mimport\u001b[0m \u001b[0mpyplot\u001b[0m \u001b[0;32mas\u001b[0m \u001b[0mplt\u001b[0m\u001b[0;34m\u001b[0m\u001b[0;34m\u001b[0m\u001b[0m\n",
      "\u001b[0;31mModuleNotFoundError\u001b[0m: No module named 'numpy'"
     ]
    }
   ],
   "source": [
    "###Data for expected count for an image based on average scale size vs. image resolution.\n",
    "\n",
    "###overall goal: display expected count for each image sorted by dorsal and ventral.\n",
    "\n",
    "import numpy as np\n",
    "import matplotlib as mpl\n",
    "from matplotlib import pyplot as plt\n",
    "import cv2\n",
    "import sys\n",
    "import os\n",
    "%matplotlib inline\n",
    "mpl.rcParams['figure.dpi'] = 120\n",
    "import statistics\n",
    "from datascience import *\n",
    "\n",
    "dirname = 'Anolis_cristatellus_images/'\n",
    "directory = os.scandir(dirname)\n",
    "ventral = []\n",
    "dorsal = []\n",
    "dorsal_avgs = []\n",
    "ventral_avgs = []\n",
    "\n",
    "\n",
    "###Sorts the images based on dorsal vs. ventral, returns a two lists of image names. \n",
    "def sort_images(directory):\n",
    "    for img in directory:\n",
    "        img_name = img.name\n",
    "        if (img.name == '.ipynb_checkpoints' or img.name == '.DS_Store'):\n",
    "            continue\n",
    "        elif \"Dorsal\" in img_name:\n",
    "            dorsal.append(img_name)\n",
    "        elif \"Ventral\" in img_name:\n",
    "            ventral.append(img_name)\n",
    "    return dorsal, ventral\n",
    "        \n",
    "\n",
    "###Gets the average scale size for an image type, either dorsal/ventral. Uses the average count for a ventral/dorsal \n",
    "###image as the expected count given that all samples are the same size. \n",
    "def get_average_size(directory):\n",
    "    for img in directory:\n",
    "        binary_map = (img > 0).astype(np.uint8)\n",
    "        connectivity = 4\n",
    "        output = cv2.connectedComponentsWithStats(binary_map, connectivity, cv2.CV_32S)\n",
    "        num_labels = output[0]\n",
    "        avg_scale_size = np.average(stats[1:,-1])\n",
    "        if num_labels > 1 and img.name != '.ipynb_checkpoints' or img.name != '.DS_Store':\n",
    "            if \"Dorsal\" in img.name:\n",
    "                dorsal_avgs.append(avg_scale_size)\n",
    "            elif \"Ventral\" in img.name:\n",
    "                ventral_avgs.append(avg_scale_size)\n",
    "    ventral_avg = np.average(ventral_avgs)\n",
    "    dorsal_avg = np.average(dorsal_avgs)\n",
    "    return ventral_avg, dorsal_avg\n",
    "    \n",
    "\n",
    "    "
   ]
  },
  {
   "cell_type": "code",
   "execution_count": 4,
   "metadata": {
    "scrolled": false
   },
   "outputs": [
    {
     "ename": "NameError",
     "evalue": "name 'sort_images' is not defined",
     "output_type": "error",
     "traceback": [
      "\u001b[0;31m---------------------------------------------------------------------------\u001b[0m",
      "\u001b[0;31mNameError\u001b[0m                                 Traceback (most recent call last)",
      "\u001b[0;32m<ipython-input-4-6088e2156a2a>\u001b[0m in \u001b[0;36m<module>\u001b[0;34m\u001b[0m\n\u001b[0;32m----> 1\u001b[0;31m \u001b[0msort_images\u001b[0m\u001b[0;34m(\u001b[0m\u001b[0mdirectory\u001b[0m\u001b[0;34m)\u001b[0m\u001b[0;34m\u001b[0m\u001b[0;34m\u001b[0m\u001b[0m\n\u001b[0m",
      "\u001b[0;31mNameError\u001b[0m: name 'sort_images' is not defined"
     ]
    }
   ],
   "source": [
    "sort_images(directory)\n",
    "\n",
    "ventral_exp, dorsal_exp = get_average_size(directory)\n",
    "print(ventral_exp, dorsal_exp)\n",
    "\n",
    "dorsal_table = Tables.with_columns(\"Image name\", dorsal, \"Average size\", dorsal_avgs)\n",
    "ventral_table = Tables.with_columns(\"Image name\", ventral, \"Average size\", ventral_avgs)\n",
    "\n",
    "print(\"DORSAL AVERAGE SIZES\")\n",
    "dorsal_table.show()\n",
    "print(\"VENTRAL AVERAGE SIZES\")\n",
    "ventral_table.show()"
   ]
  },
  {
   "cell_type": "code",
   "execution_count": null,
   "metadata": {},
   "outputs": [],
   "source": [
    "###Determine ratio of scale size to resolution"
   ]
  }
 ],
 "metadata": {
  "kernelspec": {
   "display_name": "Python 3",
   "language": "python",
   "name": "python3"
  },
  "language_info": {
   "codemirror_mode": {
    "name": "ipython",
    "version": 3
   },
   "file_extension": ".py",
   "mimetype": "text/x-python",
   "name": "python",
   "nbconvert_exporter": "python",
   "pygments_lexer": "ipython3",
   "version": "3.9.0"
  }
 },
 "nbformat": 4,
 "nbformat_minor": 4
}
